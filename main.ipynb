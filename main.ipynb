{
 "cells": [
  {
   "cell_type": "markdown",
   "metadata": {},
   "source": [
    "## Training neural networks from scratch\n",
    "\n",
    "Formulas from https://udlbook.com."
   ]
  },
  {
   "cell_type": "code",
   "execution_count": 2,
   "metadata": {},
   "outputs": [],
   "source": [
    "import numpy as np"
   ]
  },
  {
   "cell_type": "code",
   "execution_count": 14,
   "metadata": {},
   "outputs": [],
   "source": [
    "def ReLU(x):\n",
    "    return np.clip(x, 0, None)"
   ]
  },
  {
   "cell_type": "code",
   "execution_count": 15,
   "metadata": {},
   "outputs": [],
   "source": [
    "class Layer:\n",
    "    \"\"\"\n",
    "    Represents a layer in a deep neural network and its forward connections.\n",
    "    Takes in an ndarray as input and returns outputs.\n",
    "    Has utilities for computing gradients etc.\n",
    "    \"\"\"\n",
    "    def __init__(self, in_size, out_size):\n",
    "        \"\"\"\n",
    "        Use He initialization for weights.\n",
    "        \"\"\"\n",
    "        self.weights = np.random.normal(\n",
    "            loc=0,\n",
    "            scale=np.sqrt(4 / (in_size + out_size)),\n",
    "            size=(out_size, in_size)\n",
    "        )\n",
    "        self.biases = np.zeros(in_size)\n",
    "\n",
    "    def __call__(self, inputs):\n",
    "        \"\"\"\n",
    "        Feed forward.\n",
    "        inputs.shape: (..., ..., in_size)\n",
    "        \"\"\"\n",
    "        return ReLU(self.weights @ inputs) + self.biases"
   ]
  },
  {
   "cell_type": "code",
   "execution_count": null,
   "metadata": {},
   "outputs": [],
   "source": [
    "class Network:\n",
    "    def __init__(self, params):\n",
    "        \"\"\"\n",
    "        Initialize the deep network.\n",
    "        \"\"\""
   ]
  },
  {
   "cell_type": "code",
   "execution_count": 13,
   "metadata": {},
   "outputs": [
    {
     "name": "stdout",
     "output_type": "stream",
     "text": [
      "train_X.shape: (60000, 784)\n",
      "train_y.shape: (60000, 1)\n"
     ]
    }
   ],
   "source": [
    "# Load data\n",
    "train_X = np.load(\"data/train_images.npy\")\n",
    "train_y = np.load(\"data/train_labels.npy\")\n",
    "\n",
    "print(f\"train_X.shape: {train_X.shape}\")\n",
    "print(f\"train_y.shape: {train_y.shape}\")"
   ]
  }
 ],
 "metadata": {
  "kernelspec": {
   "display_name": "Python 3",
   "language": "python",
   "name": "python3"
  },
  "language_info": {
   "codemirror_mode": {
    "name": "ipython",
    "version": 3
   },
   "file_extension": ".py",
   "mimetype": "text/x-python",
   "name": "python",
   "nbconvert_exporter": "python",
   "pygments_lexer": "ipython3",
   "version": "3.11.5"
  }
 },
 "nbformat": 4,
 "nbformat_minor": 2
}
