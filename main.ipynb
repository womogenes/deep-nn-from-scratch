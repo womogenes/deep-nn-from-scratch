{
 "cells": [
  {
   "cell_type": "markdown",
   "metadata": {},
   "source": [
    "# Training a neural network from scratch\n",
    "\n",
    "Formulas from https://udlbook.com."
   ]
  },
  {
   "cell_type": "code",
   "execution_count": 7,
   "metadata": {},
   "outputs": [],
   "source": [
    "import numpy as np"
   ]
  },
  {
   "cell_type": "markdown",
   "metadata": {},
   "source": [
    "## Load data"
   ]
  },
  {
   "cell_type": "code",
   "execution_count": 223,
   "metadata": {},
   "outputs": [
    {
     "name": "stdout",
     "output_type": "stream",
     "text": [
      "train_X.shape: (60000, 784)\n",
      "train_y.shape: (60000,)\n"
     ]
    }
   ],
   "source": [
    "train_X = np.load(\"data/train_images.npy\") / 255\n",
    "train_y = np.load(\"data/train_labels.npy\").astype(int).flatten()\n",
    "\n",
    "print(f\"train_X.shape: {train_X.shape}\")\n",
    "print(f\"train_y.shape: {train_y.shape}\")"
   ]
  },
  {
   "cell_type": "markdown",
   "metadata": {},
   "source": [
    "## Utility functions\n",
    "\n",
    "ReLU, softmax"
   ]
  },
  {
   "cell_type": "code",
   "execution_count": 215,
   "metadata": {},
   "outputs": [],
   "source": [
    "def ReLU(x):\n",
    "    return np.clip(x, 0, None)"
   ]
  },
  {
   "cell_type": "code",
   "execution_count": 216,
   "metadata": {},
   "outputs": [
    {
     "name": "stdout",
     "output_type": "stream",
     "text": [
      "[[3.20586033e-02 8.71443187e-02 2.36882818e-01 6.43914260e-01]\n",
      " [4.75366886e-01 1.74877705e-01 1.74877705e-01 1.74877705e-01]\n",
      " [1.00000000e+00 1.68891188e-48 1.68891188e-48 1.68891188e-48]\n",
      " [2.50000000e-01 2.50000000e-01 2.50000000e-01 2.50000000e-01]]\n"
     ]
    }
   ],
   "source": [
    "def softmax(z):\n",
    "    \"\"\"\n",
    "    Takes in an ndarray (..., ..., N) and applies softmax\n",
    "        along the last dimension.\n",
    "    \"\"\"\n",
    "    if not z.any():\n",
    "        return np.ones(z.shape) / z.shape[-1]\n",
    "\n",
    "    exp_z = np.exp(z)\n",
    "    return exp_z / np.sum(exp_z, axis=-1, keepdims=True)\n",
    "\n",
    "# Do a sense check\n",
    "print(softmax(np.array([\n",
    "    [1, 2, 3, 4],\n",
    "    [1, 0, 0, 0],\n",
    "    [10, -100, -100, -100],\n",
    "    [0, 0, 0, 0]\n",
    "])))"
   ]
  },
  {
   "cell_type": "markdown",
   "metadata": {},
   "source": [
    "## Implement the model"
   ]
  },
  {
   "cell_type": "code",
   "execution_count": 217,
   "metadata": {},
   "outputs": [],
   "source": [
    "class Layer:\n",
    "    \"\"\"\n",
    "    Represents a layer in a deep neural network and its incoming weights.\n",
    "    Takes in an ndarray as input and returns outputs.\n",
    "    Has utilities for computing gradients etc.\n",
    "    \"\"\"\n",
    "    def __init__(self, in_size, out_size, act_func=\"relu\"):\n",
    "        \"\"\"\n",
    "        in_size: number of input nodes\n",
    "        out_size: number of output nodes\n",
    "        act_func: activation function (string)\n",
    "        Use He initialization for weights.\n",
    "        \"\"\"\n",
    "        self.weights = np.random.normal(\n",
    "            loc=0,\n",
    "            scale=np.sqrt(4 / (in_size + out_size)),\n",
    "            size=(out_size, in_size)\n",
    "        )\n",
    "        self.biases = np.zeros(out_size)\n",
    "        self.act_func = act_func.lower()\n",
    "\n",
    "        self.activations = None\n",
    "\n",
    "    def __call__(self, inputs):\n",
    "        \"\"\"\n",
    "        Feed forward.\n",
    "        inputs.shape: (batch_size, in_size)\n",
    "        \"\"\"\n",
    "        preactivations = (self.weights @ inputs.T).T\n",
    "\n",
    "        # Add biases\n",
    "        preactivations += np.broadcast_to(self.biases, preactivations.shape)\n",
    "\n",
    "        # Apply the activation function\n",
    "        if self.act_func == \"relu\":\n",
    "            self.activations = ReLU(preactivations)\n",
    "        else:\n",
    "            self.activations = preactivations\n",
    "        return self.activations"
   ]
  },
  {
   "cell_type": "code",
   "execution_count": 218,
   "metadata": {},
   "outputs": [],
   "source": [
    "class Network:\n",
    "    def __init__(self, in_size, out_size, hidden_sizes):\n",
    "        \"\"\"\n",
    "        Initialize the deep network.\n",
    "        If params is defined, it should have this structure:\n",
    "            [\n",
    "                (weights_0, biases_0),\n",
    "                (weights_1, biases_1),\n",
    "                ...\n",
    "                (weights_(n_layers-1), biases_(k-1))\n",
    "            ]\n",
    "        \"\"\"\n",
    "        self.layers = []\n",
    "        self.layers.append(Layer(in_size, hidden_sizes[0]))\n",
    "        for i in range(len(hidden_sizes) - 1):\n",
    "            self.layers.append(Layer(hidden_sizes[i], hidden_sizes[i+1]))\n",
    "        self.layers.append(Layer(hidden_sizes[-1], out_size))\n",
    "\n",
    "    def __call__(self, inputs):\n",
    "        \"\"\"\n",
    "        inputs must have shape (batch_size, in_size)\n",
    "        Returns the output logits (pre-normalization outputs)\n",
    "        \"\"\"\n",
    "        cur = inputs\n",
    "        for layer in self.layers:\n",
    "            cur = layer(cur)\n",
    "        return cur\n",
    "    \n",
    "    def predict(self, inputs):\n",
    "        \"\"\"\n",
    "        Runs the inputs through the model, but argmax-es the last layer.\n",
    "        \"\"\"\n",
    "        return np.argmax(self.__call__(inputs), axis=-1)"
   ]
  },
  {
   "cell_type": "code",
   "execution_count": 225,
   "metadata": {},
   "outputs": [
    {
     "name": "stdout",
     "output_type": "stream",
     "text": [
      "[[0.         0.         0.50142435 0.         0.         0.7360939\n",
      "  0.85285735 0.         0.08255522 0.        ]\n",
      " [0.         0.51219257 1.46683306 0.6032505  0.09178937 0.\n",
      "  0.23770187 1.86382545 0.         0.        ]\n",
      " [0.         0.         0.56915337 0.         0.         0.\n",
      "  0.8843121  0.12999033 0.         0.        ]]\n",
      "Network output shape: (3, 10)\n"
     ]
    }
   ],
   "source": [
    "nn = Network(784, 10, [200])\n",
    "y_pred = nn(train_X[:3])\n",
    "print(y_pred)\n",
    "print(f\"Network output shape: {y_pred.shape}\")"
   ]
  },
  {
   "cell_type": "markdown",
   "metadata": {},
   "source": [
    "## Loss function"
   ]
  },
  {
   "cell_type": "code",
   "execution_count": 220,
   "metadata": {},
   "outputs": [],
   "source": [
    "def cross_entropy_loss(outputs, y_true, from_logits=True):\n",
    "    \"\"\"\n",
    "    Computes the average loss across these examples.\n",
    "    outputs has shape (N, out_size)\n",
    "    y_true has shape (out_size)\n",
    "    \"\"\"\n",
    "    if from_logits:\n",
    "        out_probs = softmax(outputs)\n",
    "    else:\n",
    "        out_probs = outputs\n",
    "\n",
    "    # Terrible hack to select only the outputs we care about\n",
    "    # https://stackoverflow.com/questions/70664524/numpy-use-all-rows-in-multidimensional-integer-indexing\n",
    "\n",
    "    if len(out_probs.shape) == 1:\n",
    "        assert np.issubdtype(y_true, int), \"Output and label dimensions are incompatible.\"\n",
    "        return -np.log(out_probs[y_true])\n",
    "\n",
    "    return -np.sum(np.log(np.take_along_axis(out_probs, y_true[:,None], 1))) / len(y_true)"
   ]
  },
  {
   "cell_type": "code",
   "execution_count": 224,
   "metadata": {},
   "outputs": [],
   "source": [
    "for i in range(len(train_X)):\n",
    "    outputs = nn(train_X[i])\n",
    "    try:\n",
    "        loss = cross_entropy_loss(outputs, train_y[i])\n",
    "    except RuntimeWarning as e:\n",
    "        print(e)\n",
    "        print(\"oops\", i)"
   ]
  }
 ],
 "metadata": {
  "kernelspec": {
   "display_name": "Python 3",
   "language": "python",
   "name": "python3"
  },
  "language_info": {
   "codemirror_mode": {
    "name": "ipython",
    "version": 3
   },
   "file_extension": ".py",
   "mimetype": "text/x-python",
   "name": "python",
   "nbconvert_exporter": "python",
   "pygments_lexer": "ipython3",
   "version": "3.11.4"
  }
 },
 "nbformat": 4,
 "nbformat_minor": 2
}
