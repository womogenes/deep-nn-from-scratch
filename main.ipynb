{
 "cells": [
  {
   "cell_type": "markdown",
   "metadata": {},
   "source": [
    "# Training a neural network from scratch\n",
    "\n",
    "Formulas from https://udlbook.com."
   ]
  },
  {
   "cell_type": "code",
   "execution_count": 718,
   "metadata": {},
   "outputs": [],
   "source": [
    "import numpy as np\n",
    "from tqdm import tqdm\n",
    "import matplotlib.pyplot as plt"
   ]
  },
  {
   "cell_type": "markdown",
   "metadata": {},
   "source": [
    "## Load data"
   ]
  },
  {
   "cell_type": "code",
   "execution_count": 3,
   "metadata": {},
   "outputs": [
    {
     "name": "stdout",
     "output_type": "stream",
     "text": [
      "train_X.shape: (60000, 784)\n",
      "train_y.shape: (60000,)\n"
     ]
    }
   ],
   "source": [
    "train_X = np.load(\"data/train_images.npy\") / 255\n",
    "train_y = np.load(\"data/train_labels.npy\").astype(int).flatten()\n",
    "\n",
    "print(f\"train_X.shape: {train_X.shape}\")\n",
    "print(f\"train_y.shape: {train_y.shape}\")"
   ]
  },
  {
   "cell_type": "markdown",
   "metadata": {},
   "source": [
    "## Utility functions\n",
    "\n",
    "ReLU, softmax"
   ]
  },
  {
   "cell_type": "code",
   "execution_count": 4,
   "metadata": {},
   "outputs": [],
   "source": [
    "def ReLU(x):\n",
    "    return np.clip(x, 0, None)"
   ]
  },
  {
   "cell_type": "code",
   "execution_count": 5,
   "metadata": {},
   "outputs": [
    {
     "name": "stdout",
     "output_type": "stream",
     "text": [
      "[[3.20586033e-02 8.71443187e-02 2.36882818e-01 6.43914260e-01]\n",
      " [4.75366886e-01 1.74877705e-01 1.74877705e-01 1.74877705e-01]\n",
      " [1.00000000e+00 1.68891188e-48 1.68891188e-48 1.68891188e-48]\n",
      " [2.50000000e-01 2.50000000e-01 2.50000000e-01 2.50000000e-01]]\n"
     ]
    }
   ],
   "source": [
    "def softmax(z):\n",
    "    \"\"\"\n",
    "    Takes in an ndarray (..., ..., N) and applies softmax\n",
    "        along the last dimension.\n",
    "    \"\"\"\n",
    "    if not z.any():\n",
    "        return np.ones(z.shape) / z.shape[-1]\n",
    "\n",
    "    exp_z = np.exp(z)\n",
    "    return exp_z / np.sum(exp_z, axis=-1, keepdims=True)\n",
    "\n",
    "# Do a sense check\n",
    "print(softmax(np.array([\n",
    "    [1, 2, 3, 4],\n",
    "    [1, 0, 0, 0],\n",
    "    [10, -100, -100, -100],\n",
    "    [0, 0, 0, 0]\n",
    "])))"
   ]
  },
  {
   "cell_type": "markdown",
   "metadata": {},
   "source": [
    "## Implement the model"
   ]
  },
  {
   "cell_type": "code",
   "execution_count": 454,
   "metadata": {},
   "outputs": [],
   "source": [
    "class Layer:\n",
    "    \"\"\"\n",
    "    Represents a layer in a deep neural network and its incoming weights.\n",
    "    Takes in an ndarray as input and returns outputs.\n",
    "    Has utilities for computing gradients etc.\n",
    "    \"\"\"\n",
    "    def __init__(self, in_size, out_size, act_func=\"relu\"):\n",
    "        \"\"\"\n",
    "        in_size: number of input nodes\n",
    "        out_size: number of output nodes\n",
    "        act_func: activation function (string)\n",
    "        Use He initialization for weights.\n",
    "        \"\"\"\n",
    "        self.weights = np.random.normal(\n",
    "            loc=0,\n",
    "            scale=np.sqrt(4 / (in_size + out_size)),\n",
    "            size=(out_size, in_size)\n",
    "        )\n",
    "        self.biases = np.zeros(out_size)\n",
    "        self.act_func = act_func.lower()\n",
    "\n",
    "        # Store values for forward pass\n",
    "        self.in_acts = None\n",
    "        self.out_acts = None\n",
    "\n",
    "    def __call__(self, inputs):\n",
    "        \"\"\"\n",
    "        Feed forward.\n",
    "        inputs.shape: (batch_size, in_size)\n",
    "        \"\"\"\n",
    "        self.in_acts = inputs[:]\n",
    "        \n",
    "        # Terrible hack to account for matrix order being weird\n",
    "        self.out_preacts = (self.weights @ inputs.T).T\n",
    "\n",
    "        # Add biases\n",
    "        self.out_preacts += np.broadcast_to(self.biases, self.out_preacts.shape)\n",
    "\n",
    "        # Apply the activation function\n",
    "        if self.act_func == \"relu\":\n",
    "            self.out_acts = ReLU(self.out_preacts)\n",
    "        else:\n",
    "            self.out_acts = self.out_preacts\n",
    "        return self.out_acts\n",
    "    \n",
    "    def compute_grads(self, out_preacts_grad):\n",
    "        \"\"\"\n",
    "        Compute the gradients of weights, biases, and input activations (nodes)\n",
    "            given gradient of output pre-activations.\n",
    "        Assumes self.in_acts, self.out_preacts, and self.out_acts are all defined\n",
    "            and have shape (batch_size, ...)\n",
    "\n",
    "        out_preacts_grad: gradients of output activations\n",
    "            shape: (batch_size, N_nodes)\n",
    "        \"\"\"\n",
    "        # numpy.matmul documentation:\n",
    "        # https://numpy.org/doc/stable/reference/generated/numpy.matmul\n",
    "        self.biases_grad = out_preacts_grad[:]\n",
    "        self.weights_grad = out_preacts_grad[:,:,None] @ self.in_acts[:,None,:]\n",
    "        \n",
    "        in_preacts_grad = (self.in_acts > 1e-5) * (self.weights.T @ out_preacts_grad.T).T\n",
    "\n",
    "        # Return gradients of previous layer's pre-activations\n",
    "        # shape: (batch_size, N_nodes_prev_layer)\n",
    "        return in_preacts_grad\n",
    "    \n",
    "    def update_params(self, alpha=1e-3):\n",
    "        \"\"\"\n",
    "        Update parameters with SGD and Adam.\n",
    "        \"\"\"\n",
    "        self.biases -= np.mean(self.biases_grad, axis=0) * alpha\n",
    "        self.weights -= np.mean(self.weights_grad, axis=0) * alpha"
   ]
  },
  {
   "cell_type": "code",
   "execution_count": 455,
   "metadata": {},
   "outputs": [],
   "source": [
    "def cross_entropy_loss(outputs, y_true, from_logits=True):\n",
    "    \"\"\"\n",
    "    Computes the average loss across these examples.\n",
    "    outputs has shape (N, out_size)\n",
    "    y_true has shape (out_size)\n",
    "    \"\"\"\n",
    "    if from_logits:\n",
    "        out_probs = softmax(outputs)\n",
    "    else:\n",
    "        out_probs = outputs\n",
    "\n",
    "    # Terrible hack to select only the outputs we care about\n",
    "    # https://stackoverflow.com/questions/70664524/numpy-use-all-rows-in-multidimensional-integer-indexing\n",
    "\n",
    "    if len(out_probs.shape) == 1:\n",
    "        assert np.issubdtype(y_true, int), \"Output and label dimensions are incompatible.\"\n",
    "        return -np.log(out_probs[y_true])\n",
    "\n",
    "    return -np.sum(np.log(np.take_along_axis(out_probs, y_true[:,None], 1))) / len(y_true)"
   ]
  },
  {
   "cell_type": "code",
   "execution_count": 733,
   "metadata": {},
   "outputs": [],
   "source": [
    "class Network:\n",
    "    def __init__(self, in_size, out_size, hidden_sizes):\n",
    "        \"\"\"\n",
    "        Initialize the deep network.\n",
    "        If params is defined, it should have this structure:\n",
    "            [\n",
    "                (weights_0, biases_0),\n",
    "                (weights_1, biases_1),\n",
    "                ...\n",
    "                (weights_(n_layers-1), biases_(k-1))\n",
    "            ]\n",
    "        \"\"\"\n",
    "        self.layers = []\n",
    "        self.layers.append(Layer(in_size, hidden_sizes[0]))\n",
    "        for i in range(len(hidden_sizes) - 1):\n",
    "            self.layers.append(Layer(hidden_sizes[i], hidden_sizes[i+1]))\n",
    "        self.layers.append(Layer(hidden_sizes[-1], out_size))\n",
    "\n",
    "    def __call__(self, inputs):\n",
    "        \"\"\"\n",
    "        inputs must have shape (batch_size, in_size)\n",
    "        Returns the output logits (pre-normalization outputs)\n",
    "        \"\"\"\n",
    "        cur = inputs\n",
    "        for layer in self.layers:\n",
    "            cur = layer(cur)\n",
    "        return cur\n",
    "    \n",
    "    def loss(self, X, y):\n",
    "        return cross_entropy_loss(self.__call__(X), y, from_logits=True)\n",
    "    \n",
    "    def accuracy(self, X, y):\n",
    "        return np.mean(self.predict(X) == y)\n",
    "\n",
    "    def predict(self, inputs):\n",
    "        \"\"\"\n",
    "        Runs the inputs through the model, but argmax-es the last layer.\n",
    "        \"\"\"\n",
    "        return np.argmax(self.__call__(inputs), axis=-1)\n",
    "    \n",
    "    def compute_grads(self, X, y):\n",
    "        \"\"\"\n",
    "        Compute gradients through all layers of the network.\n",
    "        Should always be preceded by Network.__call__(X)\n",
    "\n",
    "        X: inputs, of shape (batch_size, n_features)\n",
    "        y: outputs, of shape (batch_size,)\n",
    "        \"\"\"\n",
    "        batch_size, _ = X.shape\n",
    "\n",
    "        outputs = self.__call__(X)  # shape: (batch_size, 10)\n",
    "        exp = np.exp(outputs)       # shape: (batch_size, 10)\n",
    "        sum_exp = np.sum(exp, axis=1)\n",
    "\n",
    "        label_mask = np.zeros_like(exp, dtype=bool)\n",
    "        label_mask[np.arange(batch_size),y] = True\n",
    "\n",
    "        label_outputs = exp[np.arange(batch_size),y]  # Get (batch_size,) array of ONLY label outputs\n",
    "        outputs_grad = np.zeros_like(exp)\n",
    "        outputs_grad -= (label_mask * exp) * (sum_exp - label_outputs)[:,None]\n",
    "        outputs_grad += (~label_mask * exp) * label_outputs[:,None]\n",
    "        outputs_grad /= (sum_exp**2)[:,None]\n",
    "\n",
    "        cur_preact_grad = self.layers[-1].compute_grads(outputs_grad)\n",
    "        for i in range(len(self.layers) - 2, -1, -1):\n",
    "            cur_preact_grad = self.layers[i].compute_grads(cur_preact_grad)\n",
    "            return\n",
    "    \n",
    "    def update_params(self, alpha=1e-3):\n",
    "        for layer in self.layers:\n",
    "            layer.update_params(alpha)"
   ]
  },
  {
   "cell_type": "code",
   "execution_count": 755,
   "metadata": {},
   "outputs": [
    {
     "name": "stdout",
     "output_type": "stream",
     "text": [
      "prediction on first example:\n",
      "[[0.         0.         0.         0.64986192 0.         0.\n",
      "  2.00170622 0.98051816 0.         0.2231403 ]]\n",
      "Initial loss: 2.46879\n",
      "Initial accuracy: 0.10727\n"
     ]
    }
   ],
   "source": [
    "nn = Network(784, 10, [200])\n",
    "print(f\"prediction on first example:\")\n",
    "print(nn(train_X[:1]))\n",
    "\n",
    "print(f\"Initial loss: {nn.loss(train_X, train_y):.5f}\")\n",
    "print(f\"Initial accuracy: {nn.accuracy(train_X, train_y):.5f}\")"
   ]
  },
  {
   "cell_type": "code",
   "execution_count": 762,
   "metadata": {},
   "outputs": [],
   "source": [
    "def training_epoch(train_X, train_y, lr=1e-3, batch_size=30):\n",
    "    loss_history = []\n",
    "\n",
    "    pbar = tqdm(range(len(train_X) // batch_size))\n",
    "    for batch_idx in pbar:\n",
    "        X = train_X[batch_idx * batch_size:(batch_idx + 1) * batch_size]\n",
    "        y = train_y[batch_idx * batch_size:(batch_idx + 1) * batch_size]\n",
    "\n",
    "        nn(X)\n",
    "        nn.compute_grads(X, y)\n",
    "        nn.update_params(alpha=lr)\n",
    "\n",
    "        loss = nn.loss(X, y)\n",
    "        loss_history.append(loss)\n",
    "        pbar.set_description(f\"loss: {loss:.4f}\")\n",
    "        \n",
    "    print(f\"final loss: {loss_history[-1]}\")\n",
    "    return loss_history"
   ]
  },
  {
   "cell_type": "code",
   "execution_count": 767,
   "metadata": {},
   "outputs": [],
   "source": [
    "def train_iteration(epochs, lr, batch_size):\n",
    "    all_loss_history = []\n",
    "    loss_history = []\n",
    "    accuracy_history = []\n",
    "\n",
    "    for epoch in range(epochs):\n",
    "        all_loss_history.extend(training_epoch(train_X, train_y, lr=1e-2, batch_size=batch_size))\n",
    "        loss_history.append(all_loss_history[-1])\n",
    "        accuracy = nn.accuracy(train_X, train_y)\n",
    "        accuracy_history.append(accuracy)\n",
    "        print(f\"Epoch {epoch:<2}: loss={loss_history[-1]}, accuracy={accuracy}\")\n",
    "    \n",
    "    return loss_history, accuracy_history, all_loss_history"
   ]
  },
  {
   "cell_type": "code",
   "execution_count": 764,
   "metadata": {},
   "outputs": [
    {
     "name": "stderr",
     "output_type": "stream",
     "text": [
      "loss: 2.1159: 100%|██████████| 120/120 [00:34<00:00,  3.43it/s]\n"
     ]
    },
    {
     "name": "stdout",
     "output_type": "stream",
     "text": [
      "final loss: 2.1158733486577948\n",
      "Epoch 0 : loss=2.1158733486577948, accuracy=0.27126666666666666\n"
     ]
    },
    {
     "name": "stderr",
     "output_type": "stream",
     "text": [
      "loss: 2.0181: 100%|██████████| 120/120 [00:33<00:00,  3.55it/s]\n"
     ]
    },
    {
     "name": "stdout",
     "output_type": "stream",
     "text": [
      "final loss: 2.018066927642286\n",
      "Epoch 1 : loss=2.018066927642286, accuracy=0.3504833333333333\n"
     ]
    },
    {
     "name": "stderr",
     "output_type": "stream",
     "text": [
      "loss: 1.9939: 100%|██████████| 120/120 [00:37<00:00,  3.19it/s]\n"
     ]
    },
    {
     "name": "stdout",
     "output_type": "stream",
     "text": [
      "final loss: 1.9939071959705856\n",
      "Epoch 2 : loss=1.9939071959705856, accuracy=0.39253333333333335\n"
     ]
    },
    {
     "name": "stderr",
     "output_type": "stream",
     "text": [
      "loss: 1.9390: 100%|██████████| 120/120 [00:37<00:00,  3.19it/s]\n"
     ]
    },
    {
     "name": "stdout",
     "output_type": "stream",
     "text": [
      "final loss: 1.939039510637236\n",
      "Epoch 3 : loss=1.939039510637236, accuracy=0.42346666666666666\n"
     ]
    },
    {
     "name": "stderr",
     "output_type": "stream",
     "text": [
      "loss: 1.8561: 100%|██████████| 120/120 [00:34<00:00,  3.43it/s]\n"
     ]
    },
    {
     "name": "stdout",
     "output_type": "stream",
     "text": [
      "final loss: 1.8560535203625792\n",
      "Epoch 4 : loss=1.8560535203625792, accuracy=0.4864\n"
     ]
    },
    {
     "name": "stderr",
     "output_type": "stream",
     "text": [
      "loss: 1.8589: 100%|██████████| 120/120 [00:33<00:00,  3.55it/s]\n"
     ]
    },
    {
     "name": "stdout",
     "output_type": "stream",
     "text": [
      "final loss: 1.8588542361532816\n",
      "Epoch 5 : loss=1.8588542361532816, accuracy=0.5016333333333334\n"
     ]
    },
    {
     "name": "stderr",
     "output_type": "stream",
     "text": [
      "loss: 1.8475: 100%|██████████| 120/120 [00:33<00:00,  3.55it/s]\n"
     ]
    },
    {
     "name": "stdout",
     "output_type": "stream",
     "text": [
      "final loss: 1.8475066663154447\n",
      "Epoch 6 : loss=1.8475066663154447, accuracy=0.5203833333333333\n"
     ]
    },
    {
     "name": "stderr",
     "output_type": "stream",
     "text": [
      "loss: 1.8611: 100%|██████████| 120/120 [00:33<00:00,  3.56it/s]\n"
     ]
    },
    {
     "name": "stdout",
     "output_type": "stream",
     "text": [
      "final loss: 1.8611384828483049\n",
      "Epoch 7 : loss=1.8611384828483049, accuracy=0.5315833333333333\n"
     ]
    },
    {
     "name": "stderr",
     "output_type": "stream",
     "text": [
      "loss: 1.8900: 100%|██████████| 120/120 [00:33<00:00,  3.54it/s]\n"
     ]
    },
    {
     "name": "stdout",
     "output_type": "stream",
     "text": [
      "final loss: 1.8899698900651483\n",
      "Epoch 8 : loss=1.8899698900651483, accuracy=0.5376166666666666\n"
     ]
    },
    {
     "name": "stderr",
     "output_type": "stream",
     "text": [
      "loss: 1.9196: 100%|██████████| 120/120 [00:34<00:00,  3.52it/s]"
     ]
    },
    {
     "name": "stdout",
     "output_type": "stream",
     "text": [
      "final loss: 1.919606788182254\n",
      "Epoch 9 : loss=1.919606788182254, accuracy=0.5420166666666667\n"
     ]
    },
    {
     "name": "stderr",
     "output_type": "stream",
     "text": [
      "\n"
     ]
    }
   ],
   "source": [
    "loss_history, accuracy_history, all_loss_history = train_iteration(10, lr=1e-2, batch_size=500)"
   ]
  },
  {
   "cell_type": "code",
   "execution_count": 771,
   "metadata": {},
   "outputs": [
    {
     "data": {
      "text/plain": [
       "Text(0, 0.5, 'Training accuracy')"
      ]
     },
     "execution_count": 771,
     "metadata": {},
     "output_type": "execute_result"
    }
   ],
   "source": [
    "fig, axs = plt.subplots(1, 2, figsize=(12, 4))\n",
    "\n",
    "axs[0].plot(loss_history, label=\"Training loss\")\n",
    "axs[0].set_xlabel(\"Epoch\")\n",
    "axs[0].set_ylabel(\"Training loss\")\n",
    "axs[1].plot(accuracy_history, label=\"Training accuracy\")\n",
    "axs[1].set_xlabel(\"Epoch\")\n",
    "axs[1].set_ylabel(\"Training accuracy\")"
   ]
  }
 ],
 "metadata": {
  "kernelspec": {
   "display_name": "Python 3",
   "language": "python",
   "name": "python3"
  },
  "language_info": {
   "codemirror_mode": {
    "name": "ipython",
    "version": 3
   },
   "file_extension": ".py",
   "mimetype": "text/x-python",
   "name": "python",
   "nbconvert_exporter": "python",
   "pygments_lexer": "ipython3",
   "version": "3.11.4"
  }
 },
 "nbformat": 4,
 "nbformat_minor": 2
}
